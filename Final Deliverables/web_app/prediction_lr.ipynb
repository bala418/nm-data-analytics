{
 "cells": [
  {
   "cell_type": "code",
   "execution_count": 1,
   "id": "1afbb810",
   "metadata": {
    "_cell_guid": "b1076dfc-b9ad-4769-8c92-a6c4dae69d19",
    "_uuid": "8f2839f25d086af736a60e9eeb907d3b93b6e0e5",
    "execution": {
     "iopub.execute_input": "2023-04-21T14:08:22.162203Z",
     "iopub.status.busy": "2023-04-21T14:08:22.161304Z",
     "iopub.status.idle": "2023-04-21T14:08:22.179744Z",
     "shell.execute_reply": "2023-04-21T14:08:22.178176Z"
    },
    "papermill": {
     "duration": 0.030539,
     "end_time": "2023-04-21T14:08:22.183309",
     "exception": false,
     "start_time": "2023-04-21T14:08:22.152770",
     "status": "completed"
    },
    "tags": []
   },
   "outputs": [],
   "source": [
    "import numpy as np\n",
    "import pandas as pd "
   ]
  },
  {
   "cell_type": "code",
   "execution_count": 2,
   "id": "63544f1b",
   "metadata": {},
   "outputs": [],
   "source": [
    "# avoid user warnings\n",
    "import warnings\n",
    "warnings.filterwarnings('ignore')"
   ]
  },
  {
   "cell_type": "code",
   "execution_count": 3,
   "id": "7bee6da5",
   "metadata": {
    "execution": {
     "iopub.execute_input": "2023-04-21T14:08:22.196311Z",
     "iopub.status.busy": "2023-04-21T14:08:22.195785Z",
     "iopub.status.idle": "2023-04-21T14:08:22.220431Z",
     "shell.execute_reply": "2023-04-21T14:08:22.219091Z"
    },
    "papermill": {
     "duration": 0.035132,
     "end_time": "2023-04-21T14:08:22.223990",
     "exception": false,
     "start_time": "2023-04-21T14:08:22.188858",
     "status": "completed"
    },
    "tags": []
   },
   "outputs": [],
   "source": [
    "df = pd.read_csv('../dataset/insurance.csv')"
   ]
  },
  {
   "cell_type": "code",
   "execution_count": 4,
   "id": "8bee9402",
   "metadata": {
    "execution": {
     "iopub.execute_input": "2023-04-21T14:08:22.237914Z",
     "iopub.status.busy": "2023-04-21T14:08:22.236859Z",
     "iopub.status.idle": "2023-04-21T14:08:22.268234Z",
     "shell.execute_reply": "2023-04-21T14:08:22.266739Z"
    },
    "papermill": {
     "duration": 0.041385,
     "end_time": "2023-04-21T14:08:22.271172",
     "exception": false,
     "start_time": "2023-04-21T14:08:22.229787",
     "status": "completed"
    },
    "tags": []
   },
   "outputs": [
    {
     "data": {
      "text/html": [
       "<div>\n",
       "<style scoped>\n",
       "    .dataframe tbody tr th:only-of-type {\n",
       "        vertical-align: middle;\n",
       "    }\n",
       "\n",
       "    .dataframe tbody tr th {\n",
       "        vertical-align: top;\n",
       "    }\n",
       "\n",
       "    .dataframe thead th {\n",
       "        text-align: right;\n",
       "    }\n",
       "</style>\n",
       "<table border=\"1\" class=\"dataframe\">\n",
       "  <thead>\n",
       "    <tr style=\"text-align: right;\">\n",
       "      <th></th>\n",
       "      <th>age</th>\n",
       "      <th>sex</th>\n",
       "      <th>bmi</th>\n",
       "      <th>children</th>\n",
       "      <th>smoker</th>\n",
       "      <th>region</th>\n",
       "      <th>charges</th>\n",
       "    </tr>\n",
       "  </thead>\n",
       "  <tbody>\n",
       "    <tr>\n",
       "      <th>0</th>\n",
       "      <td>19</td>\n",
       "      <td>female</td>\n",
       "      <td>27.900</td>\n",
       "      <td>0</td>\n",
       "      <td>yes</td>\n",
       "      <td>southwest</td>\n",
       "      <td>16884.92400</td>\n",
       "    </tr>\n",
       "    <tr>\n",
       "      <th>1</th>\n",
       "      <td>18</td>\n",
       "      <td>male</td>\n",
       "      <td>33.770</td>\n",
       "      <td>1</td>\n",
       "      <td>no</td>\n",
       "      <td>southeast</td>\n",
       "      <td>1725.55230</td>\n",
       "    </tr>\n",
       "    <tr>\n",
       "      <th>2</th>\n",
       "      <td>28</td>\n",
       "      <td>male</td>\n",
       "      <td>33.000</td>\n",
       "      <td>3</td>\n",
       "      <td>no</td>\n",
       "      <td>southeast</td>\n",
       "      <td>4449.46200</td>\n",
       "    </tr>\n",
       "    <tr>\n",
       "      <th>3</th>\n",
       "      <td>33</td>\n",
       "      <td>male</td>\n",
       "      <td>22.705</td>\n",
       "      <td>0</td>\n",
       "      <td>no</td>\n",
       "      <td>northwest</td>\n",
       "      <td>21984.47061</td>\n",
       "    </tr>\n",
       "    <tr>\n",
       "      <th>4</th>\n",
       "      <td>32</td>\n",
       "      <td>male</td>\n",
       "      <td>28.880</td>\n",
       "      <td>0</td>\n",
       "      <td>no</td>\n",
       "      <td>northwest</td>\n",
       "      <td>3866.85520</td>\n",
       "    </tr>\n",
       "  </tbody>\n",
       "</table>\n",
       "</div>"
      ],
      "text/plain": [
       "   age     sex     bmi  children smoker     region      charges\n",
       "0   19  female  27.900         0    yes  southwest  16884.92400\n",
       "1   18    male  33.770         1     no  southeast   1725.55230\n",
       "2   28    male  33.000         3     no  southeast   4449.46200\n",
       "3   33    male  22.705         0     no  northwest  21984.47061\n",
       "4   32    male  28.880         0     no  northwest   3866.85520"
      ]
     },
     "execution_count": 4,
     "metadata": {},
     "output_type": "execute_result"
    }
   ],
   "source": [
    "df.head()"
   ]
  },
  {
   "cell_type": "code",
   "execution_count": 5,
   "id": "977a44d3",
   "metadata": {
    "execution": {
     "iopub.execute_input": "2023-04-21T14:08:22.284896Z",
     "iopub.status.busy": "2023-04-21T14:08:22.283575Z",
     "iopub.status.idle": "2023-04-21T14:08:22.295191Z",
     "shell.execute_reply": "2023-04-21T14:08:22.293810Z"
    },
    "papermill": {
     "duration": 0.022056,
     "end_time": "2023-04-21T14:08:22.298767",
     "exception": false,
     "start_time": "2023-04-21T14:08:22.276711",
     "status": "completed"
    },
    "tags": []
   },
   "outputs": [
    {
     "data": {
      "text/plain": [
       "age         0\n",
       "sex         0\n",
       "bmi         0\n",
       "children    0\n",
       "smoker      0\n",
       "region      0\n",
       "charges     0\n",
       "dtype: int64"
      ]
     },
     "execution_count": 5,
     "metadata": {},
     "output_type": "execute_result"
    }
   ],
   "source": [
    "df.isnull().sum()"
   ]
  },
  {
   "cell_type": "code",
   "execution_count": 6,
   "id": "007e7ea5",
   "metadata": {
    "execution": {
     "iopub.execute_input": "2023-04-21T14:08:22.312277Z",
     "iopub.status.busy": "2023-04-21T14:08:22.311794Z",
     "iopub.status.idle": "2023-04-21T14:08:23.598265Z",
     "shell.execute_reply": "2023-04-21T14:08:23.596735Z"
    },
    "papermill": {
     "duration": 1.297312,
     "end_time": "2023-04-21T14:08:23.601874",
     "exception": false,
     "start_time": "2023-04-21T14:08:22.304562",
     "status": "completed"
    },
    "tags": []
   },
   "outputs": [],
   "source": [
    "from sklearn import preprocessing\n",
    "\n",
    "label_encoder = preprocessing.LabelEncoder()\n",
    "df['sex'] = label_encoder.fit_transform(df['sex'])\n",
    "df['smoker'] = label_encoder.fit_transform(df['smoker'])\n",
    "df['region'] = label_encoder.fit_transform(df['region'])"
   ]
  },
  {
   "cell_type": "code",
   "execution_count": 7,
   "id": "56bfc85b",
   "metadata": {
    "execution": {
     "iopub.execute_input": "2023-04-21T14:08:23.616461Z",
     "iopub.status.busy": "2023-04-21T14:08:23.615978Z",
     "iopub.status.idle": "2023-04-21T14:08:23.631287Z",
     "shell.execute_reply": "2023-04-21T14:08:23.629949Z"
    },
    "papermill": {
     "duration": 0.025026,
     "end_time": "2023-04-21T14:08:23.633822",
     "exception": false,
     "start_time": "2023-04-21T14:08:23.608796",
     "status": "completed"
    },
    "tags": []
   },
   "outputs": [
    {
     "data": {
      "text/html": [
       "<div>\n",
       "<style scoped>\n",
       "    .dataframe tbody tr th:only-of-type {\n",
       "        vertical-align: middle;\n",
       "    }\n",
       "\n",
       "    .dataframe tbody tr th {\n",
       "        vertical-align: top;\n",
       "    }\n",
       "\n",
       "    .dataframe thead th {\n",
       "        text-align: right;\n",
       "    }\n",
       "</style>\n",
       "<table border=\"1\" class=\"dataframe\">\n",
       "  <thead>\n",
       "    <tr style=\"text-align: right;\">\n",
       "      <th></th>\n",
       "      <th>age</th>\n",
       "      <th>sex</th>\n",
       "      <th>bmi</th>\n",
       "      <th>children</th>\n",
       "      <th>smoker</th>\n",
       "      <th>region</th>\n",
       "      <th>charges</th>\n",
       "    </tr>\n",
       "  </thead>\n",
       "  <tbody>\n",
       "    <tr>\n",
       "      <th>0</th>\n",
       "      <td>19</td>\n",
       "      <td>0</td>\n",
       "      <td>27.900</td>\n",
       "      <td>0</td>\n",
       "      <td>1</td>\n",
       "      <td>3</td>\n",
       "      <td>16884.92400</td>\n",
       "    </tr>\n",
       "    <tr>\n",
       "      <th>1</th>\n",
       "      <td>18</td>\n",
       "      <td>1</td>\n",
       "      <td>33.770</td>\n",
       "      <td>1</td>\n",
       "      <td>0</td>\n",
       "      <td>2</td>\n",
       "      <td>1725.55230</td>\n",
       "    </tr>\n",
       "    <tr>\n",
       "      <th>2</th>\n",
       "      <td>28</td>\n",
       "      <td>1</td>\n",
       "      <td>33.000</td>\n",
       "      <td>3</td>\n",
       "      <td>0</td>\n",
       "      <td>2</td>\n",
       "      <td>4449.46200</td>\n",
       "    </tr>\n",
       "    <tr>\n",
       "      <th>3</th>\n",
       "      <td>33</td>\n",
       "      <td>1</td>\n",
       "      <td>22.705</td>\n",
       "      <td>0</td>\n",
       "      <td>0</td>\n",
       "      <td>1</td>\n",
       "      <td>21984.47061</td>\n",
       "    </tr>\n",
       "    <tr>\n",
       "      <th>4</th>\n",
       "      <td>32</td>\n",
       "      <td>1</td>\n",
       "      <td>28.880</td>\n",
       "      <td>0</td>\n",
       "      <td>0</td>\n",
       "      <td>1</td>\n",
       "      <td>3866.85520</td>\n",
       "    </tr>\n",
       "  </tbody>\n",
       "</table>\n",
       "</div>"
      ],
      "text/plain": [
       "   age  sex     bmi  children  smoker  region      charges\n",
       "0   19    0  27.900         0       1       3  16884.92400\n",
       "1   18    1  33.770         1       0       2   1725.55230\n",
       "2   28    1  33.000         3       0       2   4449.46200\n",
       "3   33    1  22.705         0       0       1  21984.47061\n",
       "4   32    1  28.880         0       0       1   3866.85520"
      ]
     },
     "execution_count": 7,
     "metadata": {},
     "output_type": "execute_result"
    }
   ],
   "source": [
    "df.head()"
   ]
  },
  {
   "cell_type": "code",
   "execution_count": 8,
   "id": "22ad9c4b",
   "metadata": {
    "execution": {
     "iopub.execute_input": "2023-04-21T14:08:23.647838Z",
     "iopub.status.busy": "2023-04-21T14:08:23.647287Z",
     "iopub.status.idle": "2023-04-21T14:08:23.660232Z",
     "shell.execute_reply": "2023-04-21T14:08:23.658944Z"
    },
    "papermill": {
     "duration": 0.023752,
     "end_time": "2023-04-21T14:08:23.663389",
     "exception": false,
     "start_time": "2023-04-21T14:08:23.639637",
     "status": "completed"
    },
    "tags": []
   },
   "outputs": [],
   "source": [
    "x = df.drop(['charges'], axis = 1)\n",
    "y = df['charges']"
   ]
  },
  {
   "cell_type": "code",
   "execution_count": 9,
   "id": "e5f21b5a",
   "metadata": {
    "execution": {
     "iopub.execute_input": "2023-04-21T14:08:23.677678Z",
     "iopub.status.busy": "2023-04-21T14:08:23.677160Z",
     "iopub.status.idle": "2023-04-21T14:08:23.894332Z",
     "shell.execute_reply": "2023-04-21T14:08:23.892992Z"
    },
    "papermill": {
     "duration": 0.228209,
     "end_time": "2023-04-21T14:08:23.897729",
     "exception": false,
     "start_time": "2023-04-21T14:08:23.669520",
     "status": "completed"
    },
    "tags": []
   },
   "outputs": [],
   "source": [
    "from sklearn.linear_model import LinearRegression"
   ]
  },
  {
   "cell_type": "code",
   "execution_count": 10,
   "id": "cbcc5273",
   "metadata": {
    "execution": {
     "iopub.execute_input": "2023-04-21T14:08:23.912162Z",
     "iopub.status.busy": "2023-04-21T14:08:23.911646Z",
     "iopub.status.idle": "2023-04-21T14:08:23.917476Z",
     "shell.execute_reply": "2023-04-21T14:08:23.916115Z"
    },
    "papermill": {
     "duration": 0.016817,
     "end_time": "2023-04-21T14:08:23.920526",
     "exception": false,
     "start_time": "2023-04-21T14:08:23.903709",
     "status": "completed"
    },
    "tags": []
   },
   "outputs": [],
   "source": [
    "lr = LinearRegression()"
   ]
  },
  {
   "cell_type": "code",
   "execution_count": 11,
   "id": "c0c62cbd",
   "metadata": {
    "execution": {
     "iopub.execute_input": "2023-04-21T14:08:23.934368Z",
     "iopub.status.busy": "2023-04-21T14:08:23.933900Z",
     "iopub.status.idle": "2023-04-21T14:08:23.939462Z",
     "shell.execute_reply": "2023-04-21T14:08:23.938171Z"
    },
    "papermill": {
     "duration": 0.016093,
     "end_time": "2023-04-21T14:08:23.942294",
     "exception": false,
     "start_time": "2023-04-21T14:08:23.926201",
     "status": "completed"
    },
    "tags": []
   },
   "outputs": [],
   "source": [
    "from sklearn.model_selection import train_test_split"
   ]
  },
  {
   "cell_type": "code",
   "execution_count": 12,
   "id": "64b8897c",
   "metadata": {
    "execution": {
     "iopub.execute_input": "2023-04-21T14:08:23.956488Z",
     "iopub.status.busy": "2023-04-21T14:08:23.955489Z",
     "iopub.status.idle": "2023-04-21T14:08:23.965994Z",
     "shell.execute_reply": "2023-04-21T14:08:23.964527Z"
    },
    "papermill": {
     "duration": 0.021399,
     "end_time": "2023-04-21T14:08:23.969468",
     "exception": false,
     "start_time": "2023-04-21T14:08:23.948069",
     "status": "completed"
    },
    "tags": []
   },
   "outputs": [],
   "source": [
    "X_train, X_test, y_train, y_test = train_test_split(x, y, test_size = 0.3)"
   ]
  },
  {
   "cell_type": "code",
   "execution_count": 13,
   "id": "ed8e2f98",
   "metadata": {
    "execution": {
     "iopub.execute_input": "2023-04-21T14:08:23.983539Z",
     "iopub.status.busy": "2023-04-21T14:08:23.982425Z",
     "iopub.status.idle": "2023-04-21T14:08:24.011877Z",
     "shell.execute_reply": "2023-04-21T14:08:24.010112Z"
    },
    "papermill": {
     "duration": 0.040311,
     "end_time": "2023-04-21T14:08:24.015446",
     "exception": false,
     "start_time": "2023-04-21T14:08:23.975135",
     "status": "completed"
    },
    "tags": []
   },
   "outputs": [],
   "source": [
    "lr_model = lr.fit(X_train, y_train)"
   ]
  },
  {
   "cell_type": "code",
   "execution_count": 14,
   "id": "327de59b",
   "metadata": {
    "execution": {
     "iopub.execute_input": "2023-04-21T14:08:24.029436Z",
     "iopub.status.busy": "2023-04-21T14:08:24.028920Z",
     "iopub.status.idle": "2023-04-21T14:08:24.041403Z",
     "shell.execute_reply": "2023-04-21T14:08:24.039921Z"
    },
    "papermill": {
     "duration": 0.022793,
     "end_time": "2023-04-21T14:08:24.044210",
     "exception": false,
     "start_time": "2023-04-21T14:08:24.021417",
     "status": "completed"
    },
    "tags": []
   },
   "outputs": [
    {
     "data": {
      "text/plain": [
       "0.7395636428390766"
      ]
     },
     "execution_count": 14,
     "metadata": {},
     "output_type": "execute_result"
    }
   ],
   "source": [
    "lr.score(X_test, y_test)"
   ]
  },
  {
   "cell_type": "code",
   "execution_count": 15,
   "id": "1dc92cbb",
   "metadata": {
    "execution": {
     "iopub.execute_input": "2023-04-21T14:08:24.058204Z",
     "iopub.status.busy": "2023-04-21T14:08:24.057349Z",
     "iopub.status.idle": "2023-04-21T14:08:24.065839Z",
     "shell.execute_reply": "2023-04-21T14:08:24.064474Z"
    },
    "papermill": {
     "duration": 0.018702,
     "end_time": "2023-04-21T14:08:24.068792",
     "exception": false,
     "start_time": "2023-04-21T14:08:24.050090",
     "status": "completed"
    },
    "tags": []
   },
   "outputs": [],
   "source": [
    "Y_pred = lr.predict(X_test)"
   ]
  },
  {
   "cell_type": "code",
   "execution_count": 16,
   "id": "6a0e6fab",
   "metadata": {
    "execution": {
     "iopub.execute_input": "2023-04-21T14:08:24.083266Z",
     "iopub.status.busy": "2023-04-21T14:08:24.082788Z",
     "iopub.status.idle": "2023-04-21T14:08:24.088882Z",
     "shell.execute_reply": "2023-04-21T14:08:24.087393Z"
    },
    "papermill": {
     "duration": 0.016942,
     "end_time": "2023-04-21T14:08:24.091613",
     "exception": false,
     "start_time": "2023-04-21T14:08:24.074671",
     "status": "completed"
    },
    "tags": []
   },
   "outputs": [],
   "source": [
    "import matplotlib.pyplot as plt"
   ]
  },
  {
   "cell_type": "code",
   "execution_count": 17,
   "id": "9bbce18b",
   "metadata": {
    "execution": {
     "iopub.execute_input": "2023-04-21T14:08:24.105305Z",
     "iopub.status.busy": "2023-04-21T14:08:24.104813Z",
     "iopub.status.idle": "2023-04-21T14:08:24.378484Z",
     "shell.execute_reply": "2023-04-21T14:08:24.376964Z"
    },
    "papermill": {
     "duration": 0.284027,
     "end_time": "2023-04-21T14:08:24.381470",
     "exception": false,
     "start_time": "2023-04-21T14:08:24.097443",
     "status": "completed"
    },
    "tags": []
   },
   "outputs": [
    {
     "data": {
      "image/png": "[encoded data removed]",
      "text/plain": [
       "<Figure size 640x480 with 1 Axes>"
      ]
     },
     "metadata": {},
     "output_type": "display_data"
    }
   ],
   "source": [
    "plt.scatter(y_test, Y_pred)\n",
    "m,b = np.polyfit(y_test,Y_pred,1)\n",
    "plt.plot(y_test,m*y_test+b,color = 'red')\n",
    "plt.show()"
   ]
  },
  {
   "cell_type": "code",
   "execution_count": 18,
   "id": "b337caf3",
   "metadata": {},
   "outputs": [
    {
     "data": {
      "text/html": [
       "<div>\n",
       "<style scoped>\n",
       "    .dataframe tbody tr th:only-of-type {\n",
       "        vertical-align: middle;\n",
       "    }\n",
       "\n",
       "    .dataframe tbody tr th {\n",
       "        vertical-align: top;\n",
       "    }\n",
       "\n",
       "    .dataframe thead th {\n",
       "        text-align: right;\n",
       "    }\n",
       "</style>\n",
       "<table border=\"1\" class=\"dataframe\">\n",
       "  <thead>\n",
       "    <tr style=\"text-align: right;\">\n",
       "      <th></th>\n",
       "      <th>age</th>\n",
       "      <th>sex</th>\n",
       "      <th>bmi</th>\n",
       "      <th>children</th>\n",
       "      <th>smoker</th>\n",
       "      <th>region</th>\n",
       "    </tr>\n",
       "  </thead>\n",
       "  <tbody>\n",
       "    <tr>\n",
       "      <th>0</th>\n",
       "      <td>19</td>\n",
       "      <td>0</td>\n",
       "      <td>27.9</td>\n",
       "      <td>0</td>\n",
       "      <td>1</td>\n",
       "      <td>3</td>\n",
       "    </tr>\n",
       "  </tbody>\n",
       "</table>\n",
       "</div>"
      ],
      "text/plain": [
       "   age  sex   bmi  children  smoker  region\n",
       "0   19    0  27.9         0       1       3"
      ]
     },
     "execution_count": 18,
     "metadata": {},
     "output_type": "execute_result"
    }
   ],
   "source": [
    "# create a new test case with the above features\n",
    "# use valid feature values, use a dictionary with keys as feature names\n",
    "# and values as feature values\n",
    "\n",
    "new_test_case= {\n",
    "    'age': [19],\n",
    "    'sex': [0],\n",
    "    'bmi': [27.9],\n",
    "    'children': [0],\n",
    "    'smoker': [1],\n",
    "    'region': [3]\n",
    "}\n",
    "new_test_case_df = pd.DataFrame(new_test_case)\n",
    "new_test_case_df"
   ]
  },
  {
   "cell_type": "code",
   "execution_count": 19,
   "id": "0c541e20",
   "metadata": {},
   "outputs": [],
   "source": [
    "def predict_charges(features):\n",
    "    # convert the dictionary into a 2D array\n",
    "    X = [[features['age'][0], features['sex'][0], features['bmi'][0], features['children'][0], features['smoker'][0], features['region'][0]]]\n",
    "    prediction = lr.predict(X)\n",
    "    return prediction[0]\n",
    "\n"
   ]
  },
  {
   "cell_type": "code",
   "execution_count": 20,
   "id": "48421493",
   "metadata": {},
   "outputs": [
    {
     "data": {
      "text/plain": [
       "25214.006738511376"
      ]
     },
     "execution_count": 20,
     "metadata": {},
     "output_type": "execute_result"
    }
   ],
   "source": [
    "predict_charges(new_test_case)"
   ]
  },
  {
   "cell_type": "code",
   "execution_count": 21,
   "id": "ba9666e7",
   "metadata": {},
   "outputs": [
    {
     "data": {
      "text/plain": [
       "993.0365403111209"
      ]
     },
     "execution_count": 21,
     "metadata": {},
     "output_type": "execute_result"
    }
   ],
   "source": [
    "new_test_case= {\n",
    "    'age': [19],\n",
    "    'sex': [0],\n",
    "    'bmi': [27.9],\n",
    "    'children': [0],\n",
    "    'smoker': [0],\n",
    "    'region': [3]\n",
    "}\n",
    "new_test_case_df = pd.DataFrame(new_test_case)\n",
    "predict_charges(new_test_case)"
   ]
  },
  {
   "attachments": {},
   "cell_type": "markdown",
   "id": "32337dfc",
   "metadata": {},
   "source": [
    "It can also be viewed that, if the person smokes the charges are higher, this gives us assurance that the model is indeed working"
   ]
  },
  {
   "cell_type": "code",
   "execution_count": 22,
   "id": "20e84c02",
   "metadata": {},
   "outputs": [
    {
     "name": "stdout",
     "output_type": "stream",
     "text": [
      "Thus, the model has been trained and predicted successfully\n"
     ]
    }
   ],
   "source": [
    "print(\"Thus, the model has been trained and predicted successfully\")"
   ]
  },
  {
   "cell_type": "code",
   "execution_count": 23,
   "id": "01beb9a1",
   "metadata": {},
   "outputs": [],
   "source": [
    "# export the model using pickle library\n",
    "import pickle\n",
    "\n",
    "pickle.dump(lr, open('model.pkl','wb'))"
   ]
  },
  {
   "cell_type": "code",
   "execution_count": 24,
   "id": "cfb6494c",
   "metadata": {},
   "outputs": [
    {
     "name": "stdout",
     "output_type": "stream",
     "text": [
      "[25214.00673851]\n"
     ]
    }
   ],
   "source": [
    "# testin the model by loading it\n",
    "model = pickle.load(open('model.pkl','rb'))\n",
    "print(model.predict([[19, 0, 27.9, 0, 1, 3]]))"
   ]
  }
 ],
 "metadata": {
  "kernelspec": {
   "display_name": "Python 3",
   "language": "python",
   "name": "python3"
  },
  "language_info": {
   "codemirror_mode": {
    "name": "ipython",
    "version": 3
   },
   "file_extension": ".py",
   "mimetype": "text/x-python",
   "name": "python",
   "nbconvert_exporter": "python",
   "pygments_lexer": "ipython3",
   "version": "3.11.3"
  },
  "papermill": {
   "default_parameters": {},
   "duration": 14.513878,
   "end_time": "2023-04-21T14:08:25.213744",
   "environment_variables": {},
   "exception": null,
   "input_path": "__notebook__.ipynb",
   "output_path": "__notebook__.ipynb",
   "parameters": {},
   "start_time": "2023-04-21T14:08:10.699866",
   "version": "2.4.0"
  }
 },
 "nbformat": 4,
 "nbformat_minor": 5
}
