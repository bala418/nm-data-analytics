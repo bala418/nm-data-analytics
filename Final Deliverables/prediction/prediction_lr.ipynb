{
 "cells": [
  {
   "cell_type": "code",
   "execution_count": 62,
   "id": "1afbb810",
   "metadata": {
    "_cell_guid": "b1076dfc-b9ad-4769-8c92-a6c4dae69d19",
    "_uuid": "8f2839f25d086af736a60e9eeb907d3b93b6e0e5",
    "execution": {
     "iopub.execute_input": "2023-04-21T14:08:22.162203Z",
     "iopub.status.busy": "2023-04-21T14:08:22.161304Z",
     "iopub.status.idle": "2023-04-21T14:08:22.179744Z",
     "shell.execute_reply": "2023-04-21T14:08:22.178176Z"
    },
    "papermill": {
     "duration": 0.030539,
     "end_time": "2023-04-21T14:08:22.183309",
     "exception": false,
     "start_time": "2023-04-21T14:08:22.152770",
     "status": "completed"
    },
    "tags": []
   },
   "outputs": [],
   "source": [
    "import numpy as np\n",
    "import pandas as pd "
   ]
  },
  {
   "cell_type": "code",
   "execution_count": 63,
   "id": "63544f1b",
   "metadata": {},
   "outputs": [],
   "source": [
    "# avoid user warnings\n",
    "import warnings\n",
    "warnings.filterwarnings('ignore')"
   ]
  },
  {
   "cell_type": "code",
   "execution_count": 64,
   "id": "7bee6da5",
   "metadata": {
    "execution": {
     "iopub.execute_input": "2023-04-21T14:08:22.196311Z",
     "iopub.status.busy": "2023-04-21T14:08:22.195785Z",
     "iopub.status.idle": "2023-04-21T14:08:22.220431Z",
     "shell.execute_reply": "2023-04-21T14:08:22.219091Z"
    },
    "papermill": {
     "duration": 0.035132,
     "end_time": "2023-04-21T14:08:22.223990",
     "exception": false,
     "start_time": "2023-04-21T14:08:22.188858",
     "status": "completed"
    },
    "tags": []
   },
   "outputs": [],
   "source": [
    "df = pd.read_csv('../dataset/insurance.csv')"
   ]
  },
  {
   "cell_type": "code",
   "execution_count": 65,
   "id": "8bee9402",
   "metadata": {
    "execution": {
     "iopub.execute_input": "2023-04-21T14:08:22.237914Z",
     "iopub.status.busy": "2023-04-21T14:08:22.236859Z",
     "iopub.status.idle": "2023-04-21T14:08:22.268234Z",
     "shell.execute_reply": "2023-04-21T14:08:22.266739Z"
    },
    "papermill": {
     "duration": 0.041385,
     "end_time": "2023-04-21T14:08:22.271172",
     "exception": false,
     "start_time": "2023-04-21T14:08:22.229787",
     "status": "completed"
    },
    "tags": []
   },
   "outputs": [
    {
     "data": {
      "text/html": [
       "<div>\n",
       "<style scoped>\n",
       "    .dataframe tbody tr th:only-of-type {\n",
       "        vertical-align: middle;\n",
       "    }\n",
       "\n",
       "    .dataframe tbody tr th {\n",
       "        vertical-align: top;\n",
       "    }\n",
       "\n",
       "    .dataframe thead th {\n",
       "        text-align: right;\n",
       "    }\n",
       "</style>\n",
       "<table border=\"1\" class=\"dataframe\">\n",
       "  <thead>\n",
       "    <tr style=\"text-align: right;\">\n",
       "      <th></th>\n",
       "      <th>age</th>\n",
       "      <th>sex</th>\n",
       "      <th>bmi</th>\n",
       "      <th>children</th>\n",
       "      <th>smoker</th>\n",
       "      <th>region</th>\n",
       "      <th>charges</th>\n",
       "    </tr>\n",
       "  </thead>\n",
       "  <tbody>\n",
       "    <tr>\n",
       "      <th>0</th>\n",
       "      <td>19</td>\n",
       "      <td>female</td>\n",
       "      <td>27.900</td>\n",
       "      <td>0</td>\n",
       "      <td>yes</td>\n",
       "      <td>southwest</td>\n",
       "      <td>16884.92400</td>\n",
       "    </tr>\n",
       "    <tr>\n",
       "      <th>1</th>\n",
       "      <td>18</td>\n",
       "      <td>male</td>\n",
       "      <td>33.770</td>\n",
       "      <td>1</td>\n",
       "      <td>no</td>\n",
       "      <td>southeast</td>\n",
       "      <td>1725.55230</td>\n",
       "    </tr>\n",
       "    <tr>\n",
       "      <th>2</th>\n",
       "      <td>28</td>\n",
       "      <td>male</td>\n",
       "      <td>33.000</td>\n",
       "      <td>3</td>\n",
       "      <td>no</td>\n",
       "      <td>southeast</td>\n",
       "      <td>4449.46200</td>\n",
       "    </tr>\n",
       "    <tr>\n",
       "      <th>3</th>\n",
       "      <td>33</td>\n",
       "      <td>male</td>\n",
       "      <td>22.705</td>\n",
       "      <td>0</td>\n",
       "      <td>no</td>\n",
       "      <td>northwest</td>\n",
       "      <td>21984.47061</td>\n",
       "    </tr>\n",
       "    <tr>\n",
       "      <th>4</th>\n",
       "      <td>32</td>\n",
       "      <td>male</td>\n",
       "      <td>28.880</td>\n",
       "      <td>0</td>\n",
       "      <td>no</td>\n",
       "      <td>northwest</td>\n",
       "      <td>3866.85520</td>\n",
       "    </tr>\n",
       "  </tbody>\n",
       "</table>\n",
       "</div>"
      ],
      "text/plain": [
       "   age     sex     bmi  children smoker     region      charges\n",
       "0   19  female  27.900         0    yes  southwest  16884.92400\n",
       "1   18    male  33.770         1     no  southeast   1725.55230\n",
       "2   28    male  33.000         3     no  southeast   4449.46200\n",
       "3   33    male  22.705         0     no  northwest  21984.47061\n",
       "4   32    male  28.880         0     no  northwest   3866.85520"
      ]
     },
     "execution_count": 65,
     "metadata": {},
     "output_type": "execute_result"
    }
   ],
   "source": [
    "df.head()"
   ]
  },
  {
   "cell_type": "code",
   "execution_count": 66,
   "id": "58b4a89d",
   "metadata": {},
   "outputs": [
    {
     "name": "stdout",
     "output_type": "stream",
     "text": [
      "the categroical features are : sex, smmoker, region\n"
     ]
    }
   ],
   "source": [
    "df.describe()\n",
    "print(\"the categroical features are : sex, smmoker, region\")\n"
   ]
  },
  {
   "cell_type": "code",
   "execution_count": null,
   "id": "9d04402d",
   "metadata": {},
   "outputs": [],
   "source": []
  },
  {
   "cell_type": "code",
   "execution_count": 67,
   "id": "923e12c7",
   "metadata": {},
   "outputs": [
    {
     "name": "stdout",
     "output_type": "stream",
     "text": [
      "0       0.298584\n",
      "1      -0.953689\n",
      "2      -0.728675\n",
      "3       0.719843\n",
      "4      -0.776802\n",
      "          ...   \n",
      "1333   -0.220551\n",
      "1334   -0.914002\n",
      "1335   -0.961596\n",
      "1336   -0.930362\n",
      "1337    1.311053\n",
      "Name: charges, Length: 1338, dtype: float64\n",
      "(array([  34,  543,  577,  819, 1146, 1230, 1300], dtype=int64),)\n"
     ]
    }
   ],
   "source": [
    "# show the outliers\n",
    "from scipy import stats\n",
    "z = stats.zscore(df['charges'])\n",
    "df = df[(z < 3)]\n"
   ]
  },
  {
   "cell_type": "code",
   "execution_count": 68,
   "id": "47a7e615",
   "metadata": {},
   "outputs": [
    {
     "name": "stdout",
     "output_type": "stream",
     "text": [
      "      age     sex     bmi  children smoker     region      charges\n",
      "34     28    male  36.400         1    yes  southwest  51194.55914\n",
      "543    54  female  47.410         0    yes  southeast  63770.42801\n",
      "577    31  female  38.095         1    yes  northeast  58571.07448\n",
      "819    33  female  35.530         0    yes  northwest  55135.40209\n",
      "1146   60    male  32.800         0    yes  southwest  52590.82939\n",
      "1230   52    male  34.485         3    yes  northwest  60021.39897\n",
      "1300   45    male  30.360         0    yes  southeast  62592.87309\n"
     ]
    }
   ],
   "source": [
    "print(fd)"
   ]
  },
  {
   "cell_type": "code",
   "execution_count": 69,
   "id": "9650b94c",
   "metadata": {},
   "outputs": [
    {
     "data": {
      "text/html": [
       "<div>\n",
       "<style scoped>\n",
       "    .dataframe tbody tr th:only-of-type {\n",
       "        vertical-align: middle;\n",
       "    }\n",
       "\n",
       "    .dataframe tbody tr th {\n",
       "        vertical-align: top;\n",
       "    }\n",
       "\n",
       "    .dataframe thead th {\n",
       "        text-align: right;\n",
       "    }\n",
       "</style>\n",
       "<table border=\"1\" class=\"dataframe\">\n",
       "  <thead>\n",
       "    <tr style=\"text-align: right;\">\n",
       "      <th></th>\n",
       "      <th>age</th>\n",
       "      <th>sex</th>\n",
       "      <th>bmi</th>\n",
       "      <th>children</th>\n",
       "      <th>smoker</th>\n",
       "      <th>region</th>\n",
       "      <th>charges</th>\n",
       "    </tr>\n",
       "  </thead>\n",
       "  <tbody>\n",
       "    <tr>\n",
       "      <th>0</th>\n",
       "      <td>19</td>\n",
       "      <td>female</td>\n",
       "      <td>27.900</td>\n",
       "      <td>0</td>\n",
       "      <td>yes</td>\n",
       "      <td>southwest</td>\n",
       "      <td>16884.92400</td>\n",
       "    </tr>\n",
       "    <tr>\n",
       "      <th>1</th>\n",
       "      <td>18</td>\n",
       "      <td>male</td>\n",
       "      <td>33.770</td>\n",
       "      <td>1</td>\n",
       "      <td>no</td>\n",
       "      <td>southeast</td>\n",
       "      <td>1725.55230</td>\n",
       "    </tr>\n",
       "    <tr>\n",
       "      <th>2</th>\n",
       "      <td>28</td>\n",
       "      <td>male</td>\n",
       "      <td>33.000</td>\n",
       "      <td>3</td>\n",
       "      <td>no</td>\n",
       "      <td>southeast</td>\n",
       "      <td>4449.46200</td>\n",
       "    </tr>\n",
       "    <tr>\n",
       "      <th>3</th>\n",
       "      <td>33</td>\n",
       "      <td>male</td>\n",
       "      <td>22.705</td>\n",
       "      <td>0</td>\n",
       "      <td>no</td>\n",
       "      <td>northwest</td>\n",
       "      <td>21984.47061</td>\n",
       "    </tr>\n",
       "    <tr>\n",
       "      <th>4</th>\n",
       "      <td>32</td>\n",
       "      <td>male</td>\n",
       "      <td>28.880</td>\n",
       "      <td>0</td>\n",
       "      <td>no</td>\n",
       "      <td>northwest</td>\n",
       "      <td>3866.85520</td>\n",
       "    </tr>\n",
       "    <tr>\n",
       "      <th>...</th>\n",
       "      <td>...</td>\n",
       "      <td>...</td>\n",
       "      <td>...</td>\n",
       "      <td>...</td>\n",
       "      <td>...</td>\n",
       "      <td>...</td>\n",
       "      <td>...</td>\n",
       "    </tr>\n",
       "    <tr>\n",
       "      <th>1333</th>\n",
       "      <td>50</td>\n",
       "      <td>male</td>\n",
       "      <td>30.970</td>\n",
       "      <td>3</td>\n",
       "      <td>no</td>\n",
       "      <td>northwest</td>\n",
       "      <td>10600.54830</td>\n",
       "    </tr>\n",
       "    <tr>\n",
       "      <th>1334</th>\n",
       "      <td>18</td>\n",
       "      <td>female</td>\n",
       "      <td>31.920</td>\n",
       "      <td>0</td>\n",
       "      <td>no</td>\n",
       "      <td>northeast</td>\n",
       "      <td>2205.98080</td>\n",
       "    </tr>\n",
       "    <tr>\n",
       "      <th>1335</th>\n",
       "      <td>18</td>\n",
       "      <td>female</td>\n",
       "      <td>36.850</td>\n",
       "      <td>0</td>\n",
       "      <td>no</td>\n",
       "      <td>southeast</td>\n",
       "      <td>1629.83350</td>\n",
       "    </tr>\n",
       "    <tr>\n",
       "      <th>1336</th>\n",
       "      <td>21</td>\n",
       "      <td>female</td>\n",
       "      <td>25.800</td>\n",
       "      <td>0</td>\n",
       "      <td>no</td>\n",
       "      <td>southwest</td>\n",
       "      <td>2007.94500</td>\n",
       "    </tr>\n",
       "    <tr>\n",
       "      <th>1337</th>\n",
       "      <td>61</td>\n",
       "      <td>female</td>\n",
       "      <td>29.070</td>\n",
       "      <td>0</td>\n",
       "      <td>yes</td>\n",
       "      <td>northwest</td>\n",
       "      <td>29141.36030</td>\n",
       "    </tr>\n",
       "  </tbody>\n",
       "</table>\n",
       "<p>1331 rows × 7 columns</p>\n",
       "</div>"
      ],
      "text/plain": [
       "      age     sex     bmi  children smoker     region      charges\n",
       "0      19  female  27.900         0    yes  southwest  16884.92400\n",
       "1      18    male  33.770         1     no  southeast   1725.55230\n",
       "2      28    male  33.000         3     no  southeast   4449.46200\n",
       "3      33    male  22.705         0     no  northwest  21984.47061\n",
       "4      32    male  28.880         0     no  northwest   3866.85520\n",
       "...   ...     ...     ...       ...    ...        ...          ...\n",
       "1333   50    male  30.970         3     no  northwest  10600.54830\n",
       "1334   18  female  31.920         0     no  northeast   2205.98080\n",
       "1335   18  female  36.850         0     no  southeast   1629.83350\n",
       "1336   21  female  25.800         0     no  southwest   2007.94500\n",
       "1337   61  female  29.070         0    yes  northwest  29141.36030\n",
       "\n",
       "[1331 rows x 7 columns]"
      ]
     },
     "execution_count": 69,
     "metadata": {},
     "output_type": "execute_result"
    }
   ],
   "source": [
    "# Fill missing values with the sum of each column\n",
    "df = df.fillna(df.mean())\n",
    "df\n"
   ]
  },
  {
   "cell_type": "code",
   "execution_count": 70,
   "id": "977a44d3",
   "metadata": {
    "execution": {
     "iopub.execute_input": "2023-04-21T14:08:22.284896Z",
     "iopub.status.busy": "2023-04-21T14:08:22.283575Z",
     "iopub.status.idle": "2023-04-21T14:08:22.295191Z",
     "shell.execute_reply": "2023-04-21T14:08:22.293810Z"
    },
    "papermill": {
     "duration": 0.022056,
     "end_time": "2023-04-21T14:08:22.298767",
     "exception": false,
     "start_time": "2023-04-21T14:08:22.276711",
     "status": "completed"
    },
    "tags": []
   },
   "outputs": [
    {
     "data": {
      "text/plain": [
       "age         0\n",
       "sex         0\n",
       "bmi         0\n",
       "children    0\n",
       "smoker      0\n",
       "region      0\n",
       "charges     0\n",
       "dtype: int64"
      ]
     },
     "execution_count": 70,
     "metadata": {},
     "output_type": "execute_result"
    }
   ],
   "source": [
    "df.isnull().sum()"
   ]
  },
  {
   "cell_type": "code",
   "execution_count": 71,
   "id": "007e7ea5",
   "metadata": {
    "execution": {
     "iopub.execute_input": "2023-04-21T14:08:22.312277Z",
     "iopub.status.busy": "2023-04-21T14:08:22.311794Z",
     "iopub.status.idle": "2023-04-21T14:08:23.598265Z",
     "shell.execute_reply": "2023-04-21T14:08:23.596735Z"
    },
    "papermill": {
     "duration": 1.297312,
     "end_time": "2023-04-21T14:08:23.601874",
     "exception": false,
     "start_time": "2023-04-21T14:08:22.304562",
     "status": "completed"
    },
    "tags": []
   },
   "outputs": [],
   "source": [
    "from sklearn import preprocessing\n",
    "label_encoder = preprocessing.LabelEncoder()\n",
    "df['sex'] = label_encoder.fit_transform(df['sex'])\n",
    "df['smoker'] = label_encoder.fit_transform(df['smoker'])\n",
    "df['region'] = label_encoder.fit_transform(df['region'])"
   ]
  },
  {
   "cell_type": "code",
   "execution_count": 72,
   "id": "59fdbb63",
   "metadata": {},
   "outputs": [
    {
     "name": "stdout",
     "output_type": "stream",
     "text": [
      "               age       sex       bmi  children    smoker    region   charges\n",
      "age       1.000000 -0.022425  0.108331  0.043197 -0.028377  0.000527  0.304561\n",
      "sex      -0.022425  1.000000  0.048915  0.016042  0.075786  0.001571  0.057519\n",
      "bmi       0.108331  0.048915  1.000000  0.014860 -0.006159  0.158158  0.187061\n",
      "children  0.043197  0.016042  0.014860  1.000000  0.011084  0.018396  0.076993\n",
      "smoker   -0.028377  0.075786 -0.006159  0.011084  1.000000 -0.004096  0.785617\n",
      "region    0.000527  0.001571  0.158158  0.018396 -0.004096  1.000000 -0.009306\n",
      "charges   0.304561  0.057519  0.187061  0.076993  0.785617 -0.009306  1.000000\n"
     ]
    },
    {
     "data": {
      "text/plain": [
       "<AxesSubplot: xlabel='smoker', ylabel='charges'>"
      ]
     },
     "execution_count": 72,
     "metadata": {},
     "output_type": "execute_result"
    },
    {
     "data": {
      "image/png": "[encoded data removed]",
      "text/plain": [
       "<Figure size 640x480 with 1 Axes>"
      ]
     },
     "metadata": {},
     "output_type": "display_data"
    }
   ],
   "source": [
    "import seaborn as sns\n",
    "\n",
    "# Calculate Pearson correlation coefficient\n",
    "correlation = df.corr()\n",
    "print(correlation)\n",
    "\n",
    "# Visualize pairplots\n",
    "sns.barplot(x='smoker', y='charges', data=df)"
   ]
  },
  {
   "cell_type": "code",
   "execution_count": 73,
   "id": "56bfc85b",
   "metadata": {
    "execution": {
     "iopub.execute_input": "2023-04-21T14:08:23.616461Z",
     "iopub.status.busy": "2023-04-21T14:08:23.615978Z",
     "iopub.status.idle": "2023-04-21T14:08:23.631287Z",
     "shell.execute_reply": "2023-04-21T14:08:23.629949Z"
    },
    "papermill": {
     "duration": 0.025026,
     "end_time": "2023-04-21T14:08:23.633822",
     "exception": false,
     "start_time": "2023-04-21T14:08:23.608796",
     "status": "completed"
    },
    "tags": []
   },
   "outputs": [
    {
     "data": {
      "text/html": [
       "<div>\n",
       "<style scoped>\n",
       "    .dataframe tbody tr th:only-of-type {\n",
       "        vertical-align: middle;\n",
       "    }\n",
       "\n",
       "    .dataframe tbody tr th {\n",
       "        vertical-align: top;\n",
       "    }\n",
       "\n",
       "    .dataframe thead th {\n",
       "        text-align: right;\n",
       "    }\n",
       "</style>\n",
       "<table border=\"1\" class=\"dataframe\">\n",
       "  <thead>\n",
       "    <tr style=\"text-align: right;\">\n",
       "      <th></th>\n",
       "      <th>age</th>\n",
       "      <th>sex</th>\n",
       "      <th>bmi</th>\n",
       "      <th>children</th>\n",
       "      <th>smoker</th>\n",
       "      <th>region</th>\n",
       "      <th>charges</th>\n",
       "    </tr>\n",
       "  </thead>\n",
       "  <tbody>\n",
       "    <tr>\n",
       "      <th>0</th>\n",
       "      <td>19</td>\n",
       "      <td>0</td>\n",
       "      <td>27.900</td>\n",
       "      <td>0</td>\n",
       "      <td>1</td>\n",
       "      <td>3</td>\n",
       "      <td>16884.92400</td>\n",
       "    </tr>\n",
       "    <tr>\n",
       "      <th>1</th>\n",
       "      <td>18</td>\n",
       "      <td>1</td>\n",
       "      <td>33.770</td>\n",
       "      <td>1</td>\n",
       "      <td>0</td>\n",
       "      <td>2</td>\n",
       "      <td>1725.55230</td>\n",
       "    </tr>\n",
       "    <tr>\n",
       "      <th>2</th>\n",
       "      <td>28</td>\n",
       "      <td>1</td>\n",
       "      <td>33.000</td>\n",
       "      <td>3</td>\n",
       "      <td>0</td>\n",
       "      <td>2</td>\n",
       "      <td>4449.46200</td>\n",
       "    </tr>\n",
       "    <tr>\n",
       "      <th>3</th>\n",
       "      <td>33</td>\n",
       "      <td>1</td>\n",
       "      <td>22.705</td>\n",
       "      <td>0</td>\n",
       "      <td>0</td>\n",
       "      <td>1</td>\n",
       "      <td>21984.47061</td>\n",
       "    </tr>\n",
       "    <tr>\n",
       "      <th>4</th>\n",
       "      <td>32</td>\n",
       "      <td>1</td>\n",
       "      <td>28.880</td>\n",
       "      <td>0</td>\n",
       "      <td>0</td>\n",
       "      <td>1</td>\n",
       "      <td>3866.85520</td>\n",
       "    </tr>\n",
       "  </tbody>\n",
       "</table>\n",
       "</div>"
      ],
      "text/plain": [
       "   age  sex     bmi  children  smoker  region      charges\n",
       "0   19    0  27.900         0       1       3  16884.92400\n",
       "1   18    1  33.770         1       0       2   1725.55230\n",
       "2   28    1  33.000         3       0       2   4449.46200\n",
       "3   33    1  22.705         0       0       1  21984.47061\n",
       "4   32    1  28.880         0       0       1   3866.85520"
      ]
     },
     "execution_count": 73,
     "metadata": {},
     "output_type": "execute_result"
    }
   ],
   "source": [
    "df.head()"
   ]
  },
  {
   "cell_type": "code",
   "execution_count": 74,
   "id": "22ad9c4b",
   "metadata": {
    "execution": {
     "iopub.execute_input": "2023-04-21T14:08:23.647838Z",
     "iopub.status.busy": "2023-04-21T14:08:23.647287Z",
     "iopub.status.idle": "2023-04-21T14:08:23.660232Z",
     "shell.execute_reply": "2023-04-21T14:08:23.658944Z"
    },
    "papermill": {
     "duration": 0.023752,
     "end_time": "2023-04-21T14:08:23.663389",
     "exception": false,
     "start_time": "2023-04-21T14:08:23.639637",
     "status": "completed"
    },
    "tags": []
   },
   "outputs": [],
   "source": [
    "x = df.drop(['charges'], axis = 1)\n",
    "y = df['charges']"
   ]
  },
  {
   "cell_type": "code",
   "execution_count": 75,
   "id": "4f04107e",
   "metadata": {},
   "outputs": [],
   "source": [
    "# drop null values\n",
    "\n"
   ]
  },
  {
   "cell_type": "code",
   "execution_count": 76,
   "id": "e5f21b5a",
   "metadata": {
    "execution": {
     "iopub.execute_input": "2023-04-21T14:08:23.677678Z",
     "iopub.status.busy": "2023-04-21T14:08:23.677160Z",
     "iopub.status.idle": "2023-04-21T14:08:23.894332Z",
     "shell.execute_reply": "2023-04-21T14:08:23.892992Z"
    },
    "papermill": {
     "duration": 0.228209,
     "end_time": "2023-04-21T14:08:23.897729",
     "exception": false,
     "start_time": "2023-04-21T14:08:23.669520",
     "status": "completed"
    },
    "tags": []
   },
   "outputs": [],
   "source": [
    "from sklearn.linear_model import LinearRegression"
   ]
  },
  {
   "cell_type": "code",
   "execution_count": 77,
   "id": "cbcc5273",
   "metadata": {
    "execution": {
     "iopub.execute_input": "2023-04-21T14:08:23.912162Z",
     "iopub.status.busy": "2023-04-21T14:08:23.911646Z",
     "iopub.status.idle": "2023-04-21T14:08:23.917476Z",
     "shell.execute_reply": "2023-04-21T14:08:23.916115Z"
    },
    "papermill": {
     "duration": 0.016817,
     "end_time": "2023-04-21T14:08:23.920526",
     "exception": false,
     "start_time": "2023-04-21T14:08:23.903709",
     "status": "completed"
    },
    "tags": []
   },
   "outputs": [],
   "source": [
    "lr = LinearRegression()"
   ]
  },
  {
   "cell_type": "code",
   "execution_count": 78,
   "id": "c0c62cbd",
   "metadata": {
    "execution": {
     "iopub.execute_input": "2023-04-21T14:08:23.934368Z",
     "iopub.status.busy": "2023-04-21T14:08:23.933900Z",
     "iopub.status.idle": "2023-04-21T14:08:23.939462Z",
     "shell.execute_reply": "2023-04-21T14:08:23.938171Z"
    },
    "papermill": {
     "duration": 0.016093,
     "end_time": "2023-04-21T14:08:23.942294",
     "exception": false,
     "start_time": "2023-04-21T14:08:23.926201",
     "status": "completed"
    },
    "tags": []
   },
   "outputs": [],
   "source": [
    "from sklearn.model_selection import train_test_split"
   ]
  },
  {
   "cell_type": "code",
   "execution_count": 79,
   "id": "64b8897c",
   "metadata": {
    "execution": {
     "iopub.execute_input": "2023-04-21T14:08:23.956488Z",
     "iopub.status.busy": "2023-04-21T14:08:23.955489Z",
     "iopub.status.idle": "2023-04-21T14:08:23.965994Z",
     "shell.execute_reply": "2023-04-21T14:08:23.964527Z"
    },
    "papermill": {
     "duration": 0.021399,
     "end_time": "2023-04-21T14:08:23.969468",
     "exception": false,
     "start_time": "2023-04-21T14:08:23.948069",
     "status": "completed"
    },
    "tags": []
   },
   "outputs": [],
   "source": [
    "X_train, X_test, y_train, y_test = train_test_split(x, y, test_size = 0.3)"
   ]
  },
  {
   "cell_type": "code",
   "execution_count": 80,
   "id": "ed8e2f98",
   "metadata": {
    "execution": {
     "iopub.execute_input": "2023-04-21T14:08:23.983539Z",
     "iopub.status.busy": "2023-04-21T14:08:23.982425Z",
     "iopub.status.idle": "2023-04-21T14:08:24.011877Z",
     "shell.execute_reply": "2023-04-21T14:08:24.010112Z"
    },
    "papermill": {
     "duration": 0.040311,
     "end_time": "2023-04-21T14:08:24.015446",
     "exception": false,
     "start_time": "2023-04-21T14:08:23.975135",
     "status": "completed"
    },
    "tags": []
   },
   "outputs": [],
   "source": [
    "lr_model = lr.fit(X_train, y_train)"
   ]
  },
  {
   "cell_type": "code",
   "execution_count": 81,
   "id": "31a89cc9",
   "metadata": {},
   "outputs": [],
   "source": [
    "# perform statistical tests\n",
    "\n"
   ]
  },
  {
   "cell_type": "code",
   "execution_count": 82,
   "id": "327de59b",
   "metadata": {
    "execution": {
     "iopub.execute_input": "2023-04-21T14:08:24.029436Z",
     "iopub.status.busy": "2023-04-21T14:08:24.028920Z",
     "iopub.status.idle": "2023-04-21T14:08:24.041403Z",
     "shell.execute_reply": "2023-04-21T14:08:24.039921Z"
    },
    "papermill": {
     "duration": 0.022793,
     "end_time": "2023-04-21T14:08:24.044210",
     "exception": false,
     "start_time": "2023-04-21T14:08:24.021417",
     "status": "completed"
    },
    "tags": []
   },
   "outputs": [
    {
     "data": {
      "text/plain": [
       "0.7260652752555898"
      ]
     },
     "execution_count": 82,
     "metadata": {},
     "output_type": "execute_result"
    }
   ],
   "source": [
    "lr.score(X_test, y_test)"
   ]
  },
  {
   "cell_type": "code",
   "execution_count": 83,
   "id": "1dc92cbb",
   "metadata": {
    "execution": {
     "iopub.execute_input": "2023-04-21T14:08:24.058204Z",
     "iopub.status.busy": "2023-04-21T14:08:24.057349Z",
     "iopub.status.idle": "2023-04-21T14:08:24.065839Z",
     "shell.execute_reply": "2023-04-21T14:08:24.064474Z"
    },
    "papermill": {
     "duration": 0.018702,
     "end_time": "2023-04-21T14:08:24.068792",
     "exception": false,
     "start_time": "2023-04-21T14:08:24.050090",
     "status": "completed"
    },
    "tags": []
   },
   "outputs": [],
   "source": [
    "Y_pred = lr.predict(X_test)"
   ]
  },
  {
   "cell_type": "code",
   "execution_count": 93,
   "id": "8770088c",
   "metadata": {},
   "outputs": [
    {
     "data": {
      "text/plain": [
       "array([ 3.87407721e+04,  2.89044313e+04,  1.57915139e+04,  2.68716298e+04,\n",
       "        2.05487299e+03,  5.13906602e+02,  4.51751427e+03,  1.19283433e+04,\n",
       "        6.19520615e+03,  4.29810886e+03,  2.73873863e+03,  1.01213920e+04,\n",
       "        1.08231349e+04,  3.82628900e+04,  2.34455017e+03,  9.23187729e+03,\n",
       "        4.10657798e+03,  2.84388923e+03,  8.89987424e+03,  2.89615363e+03,\n",
       "        1.19683518e+04,  2.66408739e+04,  5.08452706e+03,  1.20675162e+04,\n",
       "        1.45112987e+04,  7.21028182e+03,  4.80728829e+03,  4.66526015e+03,\n",
       "        7.50311849e+03,  3.11966530e+04,  3.04112974e+04,  1.45929586e+04,\n",
       "        7.84364374e+03,  1.33165580e+04,  3.01583105e+04,  1.55491033e+04,\n",
       "        6.60300044e+03,  1.31730328e+04,  1.46551823e+04,  3.32539172e+04,\n",
       "        4.33019294e+03,  9.20625640e+03,  1.02627405e+03,  1.24050563e+04,\n",
       "        9.33256910e+03, -6.51288559e+01,  3.28063922e+04,  7.21698950e+03,\n",
       "        1.27286638e+04,  3.35240581e+04,  1.15199763e+04,  1.03152812e+04,\n",
       "        1.40001431e+03,  9.89840814e+03,  2.62265957e+04,  7.16791769e+03,\n",
       "        7.96708213e+03,  2.65575612e+04,  4.53062999e+03,  4.43982442e+03,\n",
       "        8.21068241e+03,  7.32808163e+03,  6.56976474e+03,  1.22000687e+04,\n",
       "        1.06382451e+04,  4.09380172e+03,  8.04116709e+02,  1.49253724e+04,\n",
       "        2.86846149e+04,  3.71791164e+04,  2.14692540e+03,  3.96161886e+03,\n",
       "        3.45806054e+03,  2.72931108e+04,  5.80515739e+03,  9.72616149e+03,\n",
       "        1.57543195e+04,  1.36080623e+04,  1.20096512e+04,  1.23933239e+04,\n",
       "        1.11016138e+04,  5.98257027e+03,  8.22995688e+03,  5.06817082e+03,\n",
       "        2.31380951e+03,  3.80090102e+04,  7.50130698e+03,  9.37423989e+03,\n",
       "        1.15824223e+04,  1.95526904e+04,  1.48575941e+04,  7.50667771e+03,\n",
       "        1.01172061e+04,  1.69916936e+04,  3.82186072e+04,  9.71580682e+03,\n",
       "        7.73611868e+03,  9.12197321e+03,  1.62745204e+03,  4.32696361e+03,\n",
       "        1.17739421e+04,  3.63193948e+03,  1.15159510e+04,  1.04214247e+04,\n",
       "        8.50865002e+03,  1.16997036e+04,  3.79719742e+04,  4.46785607e+03,\n",
       "        3.95350170e+02,  3.66834427e+04,  1.21599351e+04,  1.54374115e+04,\n",
       "        9.11326984e+03,  1.36095692e+04,  1.35719922e+04,  6.59729201e+03,\n",
       "        1.44780137e+04,  7.97099054e+03,  1.58805702e+04,  1.15674825e+04,\n",
       "        2.79027840e+04,  3.07074159e+04,  2.33970821e+04,  1.47556951e+04,\n",
       "        1.06725482e+04,  2.83124909e+04,  8.10718441e+03,  4.47384038e+03,\n",
       "        1.49415285e+04,  9.48466267e+03,  3.63766543e+03,  5.60180667e+03,\n",
       "        1.33047430e+04,  3.10576957e+04,  2.30061974e+04,  7.06340505e+03,\n",
       "        5.66409869e+03,  1.32247926e+04,  1.15856864e+04,  2.40584592e+03,\n",
       "        1.40490597e+03,  2.35280754e+03,  3.68070988e+04,  8.02279312e+03,\n",
       "        1.30531597e+04,  2.88747120e+03,  1.68660486e+03,  7.50656508e+03,\n",
       "        3.97140310e+04,  9.16654624e+03,  6.79585615e+03,  6.27048221e+03,\n",
       "        2.00869298e+03,  2.72650633e+04,  2.88402460e+03,  1.36471161e+04,\n",
       "        1.29019259e+04,  1.23693607e+04,  6.83767957e+02,  6.18258379e+03,\n",
       "        1.48324635e+04,  3.31260566e+04,  1.05690124e+04,  2.80273726e+03,\n",
       "        5.72003322e+03,  5.53591116e+03,  3.65026846e+04,  7.34951652e+03,\n",
       "        2.82387384e+03,  1.30058455e+04,  1.02734045e+04,  5.58468140e+03,\n",
       "        8.79068857e+03, -1.60436631e+03,  8.99719725e+03,  4.52893112e+03,\n",
       "        1.45216163e+04,  4.59635903e+03,  3.82115316e+03,  4.48526527e+03,\n",
       "        3.11756732e+04,  2.91742485e+04,  1.09917477e+04,  6.65840857e+03,\n",
       "        1.34692836e+03,  9.60083660e+03,  2.56509180e+04,  2.34436617e+03,\n",
       "        4.43982442e+03,  7.81423056e+03,  1.18745452e+04,  1.56697058e+04,\n",
       "        9.85569067e+03,  1.51373991e+04,  1.32683477e+04,  1.02117615e+04,\n",
       "        1.65491409e+04,  6.60061494e+03,  4.82667558e+03,  1.20001631e+04,\n",
       "        5.47917540e+03,  3.15189456e+04,  5.59836008e+03,  3.54729647e+04,\n",
       "        2.76457350e+04,  3.42575301e+04,  4.18129863e+03,  1.48746673e+04,\n",
       "        1.36574606e+04,  2.44751759e+04,  1.31020441e+04,  1.71618624e+04,\n",
       "        1.17764688e+04,  1.17217998e+04,  9.07673191e+03,  2.63233968e+04,\n",
       "        1.88674528e+03,  1.04927751e+04,  1.09936083e+04,  1.54094354e+04,\n",
       "        1.12844021e+04,  9.21157610e+03,  2.19742265e+04, -1.44149518e+03,\n",
       "        6.36617773e+03,  5.69028234e+03,  3.96088901e+03,  1.06289154e+04,\n",
       "        1.02530102e+04,  7.59615890e+03,  2.85165498e+03,  1.61899899e+04,\n",
       "        3.98448114e+03,  1.00738716e+04,  2.03355072e+03,  1.34044262e+04,\n",
       "        4.78851167e+03,  1.11262480e+04,  1.22153922e+04,  2.57940150e+04,\n",
       "        3.47414470e+04,  3.76961842e+03,  2.94180122e+04,  4.87386092e+03,\n",
       "        8.02303894e+03,  1.65546605e+04,  1.64418902e+04,  1.90939998e+03,\n",
       "        4.87851629e+03,  1.10512385e+04,  1.10880287e+04,  1.35991436e+04,\n",
       "        1.14972806e+04,  3.34561893e+04,  2.96761605e+04,  1.15474752e+04,\n",
       "        1.16732263e+04,  1.03828503e+04,  4.95780528e+03,  3.94804488e+04,\n",
       "        7.07459663e+03,  9.21424739e+03,  2.82331342e+04,  2.73634794e+04,\n",
       "        1.33522267e+04,  4.26859104e+03,  1.18964320e+04,  1.22914851e+04,\n",
       "        6.80117111e+03,  8.30637792e+03,  5.34378794e+02,  8.81070848e+03,\n",
       "        7.82885771e+03,  1.20147537e+04,  1.36340907e+04,  3.83897182e+04,\n",
       "        2.80957831e+03,  1.21035672e+04,  1.76061153e+04,  1.26449672e+04,\n",
       "        3.53168233e+04,  3.70615444e+03,  6.12652063e+03,  6.96877044e+03,\n",
       "        2.98401552e+03,  1.25983749e+04,  3.48969125e+03,  1.51366982e+03,\n",
       "        2.62113483e+04,  6.58131173e+03,  2.92799639e+04,  7.97521431e+03,\n",
       "        3.59843110e+03,  9.79780179e+03,  1.17354403e+04,  1.37342464e+03,\n",
       "        1.74399084e+04,  9.07854341e+03,  1.77053036e+04,  3.60623795e+03,\n",
       "        2.42733542e+04,  2.60171208e+04,  1.01813732e+03,  8.30070771e+03,\n",
       "        1.43542214e+04,  1.57001245e+04,  8.96587288e+03,  9.68912546e+03,\n",
       "        2.16938160e+03,  3.89494438e+03,  3.66697075e+03,  2.55430710e+04,\n",
       "        1.43288210e+03,  3.70184482e+03, -6.89824149e+02,  4.97314467e+03,\n",
       "        7.98603247e+01,  1.00612001e+04,  4.22031716e+03,  1.17090791e+04,\n",
       "        1.12993561e+04,  6.08674366e+03,  1.43150189e+04,  1.70498740e+04,\n",
       "        2.56536574e+04,  1.69105790e+04,  1.40335818e+04, -2.70444818e+01,\n",
       "        4.83698212e+03,  4.97677522e+03,  3.21182898e+04,  1.46317696e+04,\n",
       "        7.40493584e+03,  4.26647840e+03,  7.43818869e+03,  3.38934887e+04,\n",
       "        7.40236295e+03,  1.48866741e+04,  2.76317119e+04,  1.33911550e+04,\n",
       "        1.33005572e+04,  1.08446967e+04,  1.45465741e+04,  5.65909592e+03,\n",
       "        9.94100190e+03,  8.34643893e+03,  6.73512145e+03,  8.59884982e+03,\n",
       "        9.96286878e+02,  1.55622030e+04,  3.56372828e+03,  5.87612383e+03,\n",
       "        9.59148011e+03,  3.28506401e+04,  3.21574878e+04,  3.36533350e+04,\n",
       "        4.27583489e+03,  1.65993006e+04,  5.47465018e+03,  1.09322124e+04,\n",
       "        1.61545239e+04,  3.85780721e+04,  9.91228985e+03,  1.62479119e+04,\n",
       "        1.01169522e+04,  2.66219548e+03, -2.54532767e+02,  1.02222994e+04,\n",
       "        2.87400656e+03,  3.51241250e+04,  7.91773940e+03,  1.33158870e+04,\n",
       "        7.15862322e+03,  3.57439341e+03,  1.30702329e+04,  2.94873909e+02,\n",
       "        7.75371336e+03,  1.09149254e+04,  8.56132394e+03,  1.16555742e+04,\n",
       "        2.45610706e+03,  1.01792347e+04,  1.15981643e+04,  1.00555694e+04,\n",
       "        1.24054307e+04,  3.38650417e+04,  9.47222597e+03,  3.71683841e+03,\n",
       "        1.69113328e+03,  1.14654120e+04,  6.16411809e+03,  3.06366108e+03,\n",
       "        1.40673042e+04,  1.20696479e+04,  1.62003997e+03,  3.26516942e+04,\n",
       "        7.43103521e+03,  7.76478777e+03,  9.09711374e+03,  8.57271547e+03])"
      ]
     },
     "execution_count": 93,
     "metadata": {},
     "output_type": "execute_result"
    }
   ],
   "source": [
    "Y_pred"
   ]
  },
  {
   "cell_type": "code",
   "execution_count": 84,
   "id": "6a0e6fab",
   "metadata": {
    "execution": {
     "iopub.execute_input": "2023-04-21T14:08:24.083266Z",
     "iopub.status.busy": "2023-04-21T14:08:24.082788Z",
     "iopub.status.idle": "2023-04-21T14:08:24.088882Z",
     "shell.execute_reply": "2023-04-21T14:08:24.087393Z"
    },
    "papermill": {
     "duration": 0.016942,
     "end_time": "2023-04-21T14:08:24.091613",
     "exception": false,
     "start_time": "2023-04-21T14:08:24.074671",
     "status": "completed"
    },
    "tags": []
   },
   "outputs": [],
   "source": [
    "import matplotlib.pyplot as plt"
   ]
  },
  {
   "cell_type": "code",
   "execution_count": 85,
   "id": "9bbce18b",
   "metadata": {
    "execution": {
     "iopub.execute_input": "2023-04-21T14:08:24.105305Z",
     "iopub.status.busy": "2023-04-21T14:08:24.104813Z",
     "iopub.status.idle": "2023-04-21T14:08:24.378484Z",
     "shell.execute_reply": "2023-04-21T14:08:24.376964Z"
    },
    "papermill": {
     "duration": 0.284027,
     "end_time": "2023-04-21T14:08:24.381470",
     "exception": false,
     "start_time": "2023-04-21T14:08:24.097443",
     "status": "completed"
    },
    "tags": []
   },
   "outputs": [
    {
     "data": {
      "image/png": "[encoded data removed]",
      "text/plain": [
       "<Figure size 640x480 with 1 Axes>"
      ]
     },
     "metadata": {},
     "output_type": "display_data"
    }
   ],
   "source": [
    "plt.scatter(y_test, Y_pred)\n",
    "m,b = np.polyfit(y_test,Y_pred,1)\n",
    "plt.plot(y_test,m*y_test+b,color = 'red')\n",
    "plt.show()"
   ]
  },
  {
   "cell_type": "code",
   "execution_count": 86,
   "id": "b337caf3",
   "metadata": {},
   "outputs": [
    {
     "data": {
      "text/html": [
       "<div>\n",
       "<style scoped>\n",
       "    .dataframe tbody tr th:only-of-type {\n",
       "        vertical-align: middle;\n",
       "    }\n",
       "\n",
       "    .dataframe tbody tr th {\n",
       "        vertical-align: top;\n",
       "    }\n",
       "\n",
       "    .dataframe thead th {\n",
       "        text-align: right;\n",
       "    }\n",
       "</style>\n",
       "<table border=\"1\" class=\"dataframe\">\n",
       "  <thead>\n",
       "    <tr style=\"text-align: right;\">\n",
       "      <th></th>\n",
       "      <th>age</th>\n",
       "      <th>sex</th>\n",
       "      <th>bmi</th>\n",
       "      <th>children</th>\n",
       "      <th>smoker</th>\n",
       "      <th>region</th>\n",
       "    </tr>\n",
       "  </thead>\n",
       "  <tbody>\n",
       "    <tr>\n",
       "      <th>0</th>\n",
       "      <td>19</td>\n",
       "      <td>0</td>\n",
       "      <td>27.9</td>\n",
       "      <td>0</td>\n",
       "      <td>1</td>\n",
       "      <td>3</td>\n",
       "    </tr>\n",
       "  </tbody>\n",
       "</table>\n",
       "</div>"
      ],
      "text/plain": [
       "   age  sex   bmi  children  smoker  region\n",
       "0   19    0  27.9         0       1       3"
      ]
     },
     "execution_count": 86,
     "metadata": {},
     "output_type": "execute_result"
    }
   ],
   "source": [
    "# create a new test case with the above features\n",
    "# use valid feature values, use a dictionary with keys as feature names\n",
    "# and values as feature values\n",
    "\n",
    "new_test_case= {\n",
    "    'age': [19],\n",
    "    'sex': [0],\n",
    "    'bmi': [27.9],\n",
    "    'children': [0],\n",
    "    'smoker': [1],\n",
    "    'region': [3]\n",
    "}\n",
    "new_test_case_df = pd.DataFrame(new_test_case)\n",
    "new_test_case_df"
   ]
  },
  {
   "cell_type": "code",
   "execution_count": 87,
   "id": "0c541e20",
   "metadata": {},
   "outputs": [],
   "source": [
    "def predict_charges(features):\n",
    "    # convert the dictionary into a 2D array\n",
    "    X = [[features['age'][0], features['sex'][0], features['bmi'][0], features['children'][0], features['smoker'][0], features['region'][0]]]\n",
    "    print(X)\n",
    "    prediction = lr.predict(X)\n",
    "    return prediction[0]\n",
    "\n"
   ]
  },
  {
   "cell_type": "code",
   "execution_count": 88,
   "id": "48421493",
   "metadata": {},
   "outputs": [
    {
     "name": "stdout",
     "output_type": "stream",
     "text": [
      "[[19, 0, 27.9, 0, 1, 3]]\n"
     ]
    },
    {
     "data": {
      "text/plain": [
       "24025.593637590442"
      ]
     },
     "execution_count": 88,
     "metadata": {},
     "output_type": "execute_result"
    }
   ],
   "source": [
    "predict_charges(new_test_case)"
   ]
  },
  {
   "cell_type": "code",
   "execution_count": 89,
   "id": "ba9666e7",
   "metadata": {},
   "outputs": [
    {
     "name": "stdout",
     "output_type": "stream",
     "text": [
      "[[19, 0, 27.9, 0, 0, 3]]\n"
     ]
    },
    {
     "data": {
      "text/plain": [
       "804.2373470453531"
      ]
     },
     "execution_count": 89,
     "metadata": {},
     "output_type": "execute_result"
    }
   ],
   "source": [
    "new_test_case= {\n",
    "    'age': [19],\n",
    "    'sex': [0],\n",
    "    'bmi': [27.9],\n",
    "    'children': [0],\n",
    "    'smoker': [0],\n",
    "    'region': [3]\n",
    "}\n",
    "new_test_case_df = pd.DataFrame(new_test_case)\n",
    "predict_charges(new_test_case)"
   ]
  },
  {
   "attachments": {},
   "cell_type": "markdown",
   "id": "32337dfc",
   "metadata": {},
   "source": [
    "It can also be viewed that, if the person smokes the charges are higher, this gives us assurance that the model is indeed working"
   ]
  },
  {
   "cell_type": "code",
   "execution_count": 92,
   "id": "6235cb7b",
   "metadata": {},
   "outputs": [
    {
     "name": "stdout",
     "output_type": "stream",
     "text": [
      "[804.23734705]\n"
     ]
    }
   ],
   "source": [
    "new_data = [[19, 0, 27.9, 0, 0, 3]]\n",
    "prediction = lr.predict(new_data)\n",
    "print(prediction)\n"
   ]
  },
  {
   "cell_type": "code",
   "execution_count": 90,
   "id": "20e84c02",
   "metadata": {},
   "outputs": [
    {
     "name": "stdout",
     "output_type": "stream",
     "text": [
      "Thus, the model has been trained and predicted successfully\n"
     ]
    }
   ],
   "source": [
    "print(\"Thus, the model has been trained and predicted successfully\")"
   ]
  }
 ],
 "metadata": {
  "kernelspec": {
   "display_name": "Python 3",
   "language": "python",
   "name": "python3"
  },
  "language_info": {
   "codemirror_mode": {
    "name": "ipython",
    "version": 3
   },
   "file_extension": ".py",
   "mimetype": "text/x-python",
   "name": "python",
   "nbconvert_exporter": "python",
   "pygments_lexer": "ipython3",
   "version": "3.11.3"
  },
  "papermill": {
   "default_parameters": {},
   "duration": 14.513878,
   "end_time": "2023-04-21T14:08:25.213744",
   "environment_variables": {},
   "exception": null,
   "input_path": "__notebook__.ipynb",
   "output_path": "__notebook__.ipynb",
   "parameters": {},
   "start_time": "2023-04-21T14:08:10.699866",
   "version": "2.4.0"
  }
 },
 "nbformat": 4,
 "nbformat_minor": 5
}
